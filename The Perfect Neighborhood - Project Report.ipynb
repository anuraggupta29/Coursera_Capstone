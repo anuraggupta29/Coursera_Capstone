{
    "cells": [
        {
            "metadata": {
                "collapsed": true
            },
            "cell_type": "markdown",
            "source": "<h1>1. Introduction</h1>\n<br>\n<h3>Background</h3>\n<p>Often times, people come across situations which forces them to move to a different city or even a different country, or maybe they do so of their own free will. But in any case it is important that the neighborhood we choose to live in is as close as possible to the neighborhood we want it to be. i.e. our new neighborhood should be similar to our old one as much as possible. It allows us to adapt more easily as well as the places we like will be in close proximity.</p>\n\n<h3>Why we need a better solution?</h3>\n<p>If we try to do it manually it will require us to check each and every neighborhood, find whether hundreds of venues such as restaurants, exist in close proximity or not. What is the distance from the schools, hospitals and many more factors. Doing this will require a lot of man-hours, and it still might not be effective enough. Thus, using a machine learning algorithm is a much better option.</p>\n\n<h3>Solution</h3>\n<p>To accomplish this project I have used K-Means Classification. The user will provide the neighborhood location where he/she used to live, and the model will predict which neighborhoods are the most similar to their last neighborhood along with a Similarity Score.</p>\n\n<h3>Target Audience</h3>\n<p>This model can be used by real estate agencies to provide customers with the best housing options in the city of Toronto.</p>\n"
        },
        {
            "metadata": {},
            "cell_type": "markdown",
            "source": "<h1>2. Data Requirements and Sources</h1>\n\n<h3>Toronto Postal Codes and Neighborhood Names:</h3>\n<ul>\n    <li>Source: Wikipedia</li>\n    <li>Info: Parse HTML using BeautifulSoup and extract the Table Loop over the table to get the desired values</li>\n</ul>\n<h3>Neighborhood Location Coordinates</h3>\n<ul>\n    <li>Source: FourSquare API</li>\n    <li>Info: Parse the JSON file to extract the desired data. i.e. location coordinates of </li>\n</ul>\n<h3>Venues in and around that neighborhood:</h3>\n<ul>\n    <li>Source: Foursquare API</li>\n    <li>Info: Parse the JSON file to extract the desired content</li>\n</ul>\n"
        },
        {
            "metadata": {},
            "cell_type": "code",
            "source": "",
            "execution_count": null,
            "outputs": []
        }
    ],
    "metadata": {
        "kernelspec": {
            "name": "python3",
            "display_name": "Python 3.6",
            "language": "python"
        },
        "language_info": {
            "name": "python",
            "version": "3.6.9",
            "mimetype": "text/x-python",
            "codemirror_mode": {
                "name": "ipython",
                "version": 3
            },
            "pygments_lexer": "ipython3",
            "nbconvert_exporter": "python",
            "file_extension": ".py"
        }
    },
    "nbformat": 4,
    "nbformat_minor": 1
}
